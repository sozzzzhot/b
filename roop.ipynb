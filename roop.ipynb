{
  "nbformat": 4,
  "nbformat_minor": 0,
  "metadata": {
    "colab": {
      "provenance": [],
      "gpuType": "T4"
    },
    "kernelspec": {
      "name": "python3",
      "display_name": "Python 3"
    },
    "language_info": {
      "name": "python"
    },
    "accelerator": "GPU"
  },
  "cells": [
    {
      "cell_type": "code",
      "source": [
        "#@markdown 第一步点我\n",
        "from IPython.display import clear_output\n",
        "# 第一次使用将roop以及视频下载到google drive中\n",
        "from google.colab import drive\n",
        "drive.mount('/content/drive')\n",
        "%cd /content/drive/MyDrive\n",
        "# check if directory exist\n",
        "import os\n",
        "isExist = os.path.isdir('roop')\n",
        "if not isExist:\n",
        "  !git clone https://github.com/s0md3v/roop\n",
        "  %cd roop\n",
        "  !git checkout e4f1d9aaff43549667f7c81c6f48a86606fb9b95\n",
        "  !pip install onnxruntime-gpu && pip install -r requirements.txt\n",
        "  !wget https://huggingface.co/MonsterMMORPG/SECourses/resolve/main/inswapper_128.onnx\n",
        "else:\n",
        "  %cd roop\n",
        "  !pip install onnxruntime-gpu && pip install -r requirements.txt\n",
        "clear_output()\n",
        "!echo \"完成\"\n",
        "\n",
        "# 下载一些素材视频"
      ],
      "metadata": {
        "cellView": "form",
        "id": "xRDGxt4Ev3NT"
      },
      "execution_count": null,
      "outputs": []
    },
    {
      "cell_type": "code",
      "source": [
        "!git checkout e4f1d9aaff43549667f7c81c6f48a86606fb9b95 --force\n",
        "#@markdown 图片文件名\n",
        "face=\"photo_2023-07-03_15-51-00.jpg\"#@param {type:\"string\"}\n",
        "#@markdown 视频文件名\n",
        "video=\"video_2023-07-03_15-49-17.mp4\"#@param {type:\"string\"}\n",
        "!pwd\n",
        "!python run.py -f $face -t $video -o outputvideo.mp4 --keep-frames --keep-fps --gpu"
      ],
      "metadata": {
        "id": "OiL6sWeDzeD_",
        "cellView": "form",
        "colab": {
          "base_uri": "https://localhost:8080/"
        },
        "outputId": "9bd91d86-05b3-4e12-94d9-5fd25ae5c6a2"
      },
      "execution_count": null,
      "outputs": [
        {
          "output_type": "stream",
          "name": "stdout",
          "text": [
            ""
          ]
        }
      ]
    }
  ]
}
